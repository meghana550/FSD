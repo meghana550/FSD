{
  "nbformat": 4,
  "nbformat_minor": 0,
  "metadata": {
    "colab": {
      "provenance": [],
      "authorship_tag": "ABX9TyOiISVoM4vJssSeiAuFw7b0",
      "include_colab_link": true
    },
    "kernelspec": {
      "name": "python3",
      "display_name": "Python 3"
    },
    "language_info": {
      "name": "python"
    }
  },
  "cells": [
    {
      "cell_type": "markdown",
      "metadata": {
        "id": "view-in-github",
        "colab_type": "text"
      },
      "source": [
        "<a href=\"https://colab.research.google.com/github/meghana550/FSD/blob/master/super30.ipynb\" target=\"_parent\"><img src=\"https://colab.research.google.com/assets/colab-badge.svg\" alt=\"Open In Colab\"/></a>"
      ]
    },
    {
      "cell_type": "code",
      "execution_count": null,
      "metadata": {
        "colab": {
          "base_uri": "https://localhost:8080/"
        },
        "id": "UfpwlBEiWC0d",
        "outputId": "ca29a852-3b0d-4e50-b70d-6500aa7cb83c"
      },
      "outputs": [
        {
          "output_type": "stream",
          "name": "stdout",
          "text": [
            "[9, 8, 1, 7, 2]\n"
          ]
        }
      ],
      "source": [
        "#convedrting double digits into single digits\n",
        "nums=[BBY9,81,72]\n",
        "\n",
        "s=\"\"\n",
        "\n",
        "for i in nums:\n",
        "\n",
        "    s+=str(i)\n",
        "\n",
        "res=[]\n",
        "\n",
        "for i in s:\n",
        "\n",
        "    res.append(int(i))\n",
        "\n",
        "print(res)"
      ]
    },
    {
      "cell_type": "markdown",
      "source": [
        "printing 0's at the end"
      ],
      "metadata": {
        "id": "5NPJ1MYmbbu_"
      }
    },
    {
      "cell_type": "code",
      "source": [
        "nums=[0,1,2,4,0,8,0]\n",
        "n1=[]\n",
        "n2=[]\n",
        "for i in nums:\n",
        "    if i==0:\n",
        "        n1.append(i)\n",
        "    else:\n",
        "        n2.append(i)\n",
        "print(n2+n1)"
      ],
      "metadata": {
        "colab": {
          "base_uri": "https://localhost:8080/"
        },
        "id": "LPKx-NDXbWuc",
        "outputId": "497fdadc-30cb-4e17-bd6e-4edc47b21038"
      },
      "execution_count": null,
      "outputs": [
        {
          "output_type": "stream",
          "name": "stdout",
          "text": [
            "[1, 2, 4, 8, 0, 0, 0]\n"
          ]
        }
      ]
    },
    {
      "cell_type": "markdown",
      "source": [
        "checking the if condition statements"
      ],
      "metadata": {
        "id": "t9EZYgkvcqU6"
      }
    },
    {
      "cell_type": "code",
      "source": [
        "n=int(input())\n",
        "if n%2==0:\n",
        "  if n>6 and n<=20:\n",
        "    print(\"weired\")\n",
        "  else:\n",
        "    print(\"Not weired\")\n",
        "else:\n",
        "  print(\"weird\")"
      ],
      "metadata": {
        "colab": {
          "base_uri": "https://localhost:8080/"
        },
        "id": "JRGn3PiBbp9e",
        "outputId": "5abe4bec-5ea3-4998-80aa-6c4fcedcf697"
      },
      "execution_count": null,
      "outputs": [
        {
          "output_type": "stream",
          "name": "stdout",
          "text": [
            "8\n",
            "weired\n"
          ]
        }
      ]
    },
    {
      "cell_type": "markdown",
      "source": [
        "printing 0s in middle"
      ],
      "metadata": {
        "id": "h-5AWuFMRyNL"
      }
    },
    {
      "cell_type": "code",
      "source": [
        "nums=[0,1,2,4,0,8,0]\n",
        "n1=[]\n",
        "n2=[]\n",
        "for i in nums:\n",
        "  if i==0:\n",
        "    n1.append(i)\n",
        "  else:\n",
        "    n2.append(i)\n",
        "  k=int(len(n2)/2)\n",
        "  p=n2[:k]\n",
        "  p1=n2[k:]\n",
        "print(p+n1+p1)"
      ],
      "metadata": {
        "colab": {
          "base_uri": "https://localhost:8080/"
        },
        "id": "nCb3kJKOc6YA",
        "outputId": "d4610da6-d51e-4c29-b00b-5156df832329"
      },
      "execution_count": null,
      "outputs": [
        {
          "output_type": "stream",
          "name": "stdout",
          "text": [
            "[1, 2, 0, 0, 0, 4, 8]\n"
          ]
        }
      ]
    },
    {
      "cell_type": "code",
      "source": [],
      "metadata": {
        "id": "wAiS_9o7ejTI"
      },
      "execution_count": null,
      "outputs": []
    },
    {
      "cell_type": "markdown",
      "source": [
        "single number"
      ],
      "metadata": {
        "id": "JJnQflY9AiDO"
      }
    },
    {
      "cell_type": "code",
      "source": [
        "def singleNumber(n):\n",
        "        self=[]\n",
        "        for i in n:\n",
        "            v=n.count(i)\n",
        "            if v<2:\n",
        "                self.append(i)\n",
        "        print (self)\n",
        "singleNumber([2,2,1])"
      ],
      "metadata": {
        "colab": {
          "base_uri": "https://localhost:8080/"
        },
        "id": "51yh52Wp_5s2",
        "outputId": "f76dcef3-db54-45e4-b8d9-4f53d977a64f"
      },
      "execution_count": null,
      "outputs": [
        {
          "output_type": "stream",
          "name": "stdout",
          "text": [
            "[1]\n"
          ]
        }
      ]
    },
    {
      "cell_type": "markdown",
      "source": [
        "two swap"
      ],
      "metadata": {
        "id": "iv9kQ6cWFisV"
      }
    },
    {
      "cell_type": "code",
      "source": [
        "def twoswap(n):\n",
        "  l=[]\n",
        "  n=str(n)\n",
        "  for i in n:\n",
        "    l.append(i)\n",
        "  p1=[]\n",
        "  p2=[]\n",
        "  for i in l:\n",
        "    if l.index(i)%2==0:\n",
        "      p1.append(i)\n",
        "    else:\n",
        "      p2.append(i)\n",
        "  k=[]\n",
        "  for i in range(0,len(p1)):\n",
        "    k.append(p2[i])\n",
        "    k.append(p1[i])\n",
        "  s=\"\"\n",
        "  for i in k:\n",
        "    s+=i\n",
        "  print(s)\n",
        "twoswap(324231)"
      ],
      "metadata": {
        "colab": {
          "base_uri": "https://localhost:8080/"
        },
        "id": "LUQY_egwDS_9",
        "outputId": "c886bf1a-e47d-4171-e531-cd783f019d4d"
      },
      "execution_count": null,
      "outputs": [
        {
          "output_type": "stream",
          "name": "stdout",
          "text": [
            "232413\n"
          ]
        }
      ]
    },
    {
      "cell_type": "markdown",
      "source": [
        "fibanacci series"
      ],
      "metadata": {
        "id": "TfjJ8ZJbQn2Y"
      }
    },
    {
      "cell_type": "code",
      "source": [
        "n=int(input())\n",
        "a=0\n",
        "b=1\n",
        "c=a+b\n",
        "print(a,b,end=\" \")\n",
        "for i in range(2,n+1):\n",
        "  c=a+b\n",
        "  a=b\n",
        "  b=c\n",
        "print(c)\n"
      ],
      "metadata": {
        "colab": {
          "base_uri": "https://localhost:8080/"
        },
        "id": "I2B5InJwN-Ka",
        "outputId": "bc532554-08d9-44a5-db82-564d0a3b4199"
      },
      "execution_count": null,
      "outputs": [
        {
          "output_type": "stream",
          "name": "stdout",
          "text": [
            "4\n",
            "0 1 3\n"
          ]
        }
      ]
    },
    {
      "cell_type": "markdown",
      "source": [
        "abundant number"
      ],
      "metadata": {
        "id": "I-xrEUFcRm2k"
      }
    },
    {
      "cell_type": "code",
      "source": [
        "n=int(input())\n",
        "s=0\n",
        "for i in range(1,n):\n",
        "  if n%i==0:\n",
        "    s=s+i\n",
        "if s>n:\n",
        "  print(\"abundant number\")\n",
        "else:\n",
        "  print(\"not a abundant number\")"
      ],
      "metadata": {
        "colab": {
          "base_uri": "https://localhost:8080/"
        },
        "id": "UDamuLO0QtYA",
        "outputId": "95c9450e-3db9-48e4-c40f-4d18807f6d41"
      },
      "execution_count": null,
      "outputs": [
        {
          "output_type": "stream",
          "name": "stdout",
          "text": [
            "12\n",
            "abundant number\n"
          ]
        }
      ]
    },
    {
      "cell_type": "markdown",
      "source": [
        "automarphic number"
      ],
      "metadata": {
        "id": "PjCSCyh7TvQ6"
      }
    },
    {
      "cell_type": "code",
      "source": [
        "n=25\n",
        "p=len(str(n))\n",
        "n3=n*n\n",
        "n2=str(n3)\n",
        "s=1\n",
        "for i in range(1,n):\n",
        "  if n%i==0:\n",
        "    s=s+i\n",
        "    n=n//10\n",
        "  n5=n2[p:]\n",
        "  n4=n2[:p]\n",
        "print(n5)\n",
        "print(n4)\n",
        "if n==s:\n",
        "  print(\"automarphic number\")\n",
        "else:\n",
        "  print(\"not a automarphic number\")\n"
      ],
      "metadata": {
        "colab": {
          "base_uri": "https://localhost:8080/"
        },
        "id": "Y4GB4o_CSHoa",
        "outputId": "f5ecc69e-9fb5-49ca-f14d-859f52f44eba"
      },
      "execution_count": null,
      "outputs": [
        {
          "output_type": "stream",
          "name": "stdout",
          "text": [
            "5\n",
            "62\n",
            "not a automarphic number\n"
          ]
        }
      ]
    },
    {
      "cell_type": "markdown",
      "source": [
        "amstrong number"
      ],
      "metadata": {
        "id": "lGRjsGJn00-x"
      }
    },
    {
      "cell_type": "code",
      "source": [
        "n=int(input())\n",
        "temp=n\n",
        "sum=0\n",
        "for i in range(1,n):\n",
        "  r=n%i\n",
        "  sum=sum+r**r\n",
        "  n=n//10\n",
        "if sum==temp:\n",
        "  print(\"amstrong number\")\n",
        "else:\n",
        "  print(\"not amstrong number\")"
      ],
      "metadata": {
        "colab": {
          "base_uri": "https://localhost:8080/"
        },
        "id": "bWl3kmfbWG6d",
        "outputId": "5119be96-786b-4a82-9512-d315ea63601e"
      },
      "execution_count": null,
      "outputs": [
        {
          "output_type": "stream",
          "name": "stdout",
          "text": [
            "10\n",
            "not amstrong number\n"
          ]
        }
      ]
    },
    {
      "cell_type": "markdown",
      "source": [
        "amicable number"
      ],
      "metadata": {
        "id": "bf9DBEk5-S85"
      }
    },
    {
      "cell_type": "code",
      "source": [
        "n=int(input())\n",
        "n1=int(input())\n",
        "s1=0\n",
        "s2=0\n",
        "for i in range(1,n):\n",
        "  if n%i==0:\n",
        "    s1+=i\n",
        "for i in range(1,n1):\n",
        "  if n1%i==0:\n",
        "    s2+=i\n",
        "if s1==n1 and s2==n:\n",
        "  print(\"amicable number\")\n",
        "else:\n",
        "  print(\"not amicable number\")"
      ],
      "metadata": {
        "colab": {
          "base_uri": "https://localhost:8080/"
        },
        "id": "SrsxyWW406cP",
        "outputId": "bb91c2b2-e23c-4756-afd4-49653e92aeb3"
      },
      "execution_count": null,
      "outputs": [
        {
          "output_type": "stream",
          "name": "stdout",
          "text": [
            "220\n",
            "284\n",
            "amicable number\n"
          ]
        }
      ]
    },
    {
      "cell_type": "markdown",
      "source": [
        "sociable number"
      ],
      "metadata": {
        "id": "9x8EOzENBdSu"
      }
    },
    {
      "cell_type": "code",
      "source": [
        "n1=int(input())\n",
        "n2=int(input())\n",
        "n3=int(input())\n",
        "n4=int(input())\n",
        "s1=0\n",
        "s2=0\n",
        "s3=0\n",
        "s4=0\n",
        "for i in range(1,n1):\n",
        "  if n1%i==0:\n",
        "    s1+=i\n",
        "for i in range(1,n2):\n",
        "  if n2%i==0:\n",
        "    s2+=i\n",
        "for i in range(1,n3):\n",
        "  if n3%i==0:\n",
        "    s3+=i\n",
        "for i in range(1,n4):\n",
        "  if n4%i==0:\n",
        "    s4+=i\n",
        "if s1==n2 and s2==n3 and s3==n4 and s4==n1:\n",
        "  print(\"sociable number\")\n",
        "else:\n",
        "  print(\"not sociable number\")\n"
      ],
      "metadata": {
        "colab": {
          "base_uri": "https://localhost:8080/"
        },
        "id": "uLi-gXUz-YBp",
        "outputId": "ddefb460-4a7e-42f4-ef6b-99f51d6c77fa"
      },
      "execution_count": null,
      "outputs": [
        {
          "output_type": "stream",
          "name": "stdout",
          "text": [
            "1264460\n",
            " 1547860\n",
            "1727636\n",
            "1305184\n",
            "sociable number\n"
          ]
        }
      ]
    },
    {
      "cell_type": "markdown",
      "source": [
        "Triangle number"
      ],
      "metadata": {
        "id": "T6vPFbn5C2Fq"
      }
    },
    {
      "cell_type": "code",
      "source": [
        "n=int(input())\n",
        "k=[1,3]\n",
        "c=3\n",
        "for i in range(3,n+1):\n",
        "  l=c+i\n",
        "  k.append(l)\n",
        "  l=c\n",
        "if n in k:\n",
        "  print(\"triangle number\")\n",
        "else:\n",
        "  print(\"not triangle number\")"
      ],
      "metadata": {
        "colab": {
          "base_uri": "https://localhost:8080/"
        },
        "id": "hkQYHcCRBhXM",
        "outputId": "849ee14d-d375-4f0f-ddfc-d5ce0a34fe0d"
      },
      "execution_count": null,
      "outputs": [
        {
          "output_type": "stream",
          "name": "stdout",
          "text": [
            "5\n",
            "not triangle number\n"
          ]
        }
      ]
    },
    {
      "cell_type": "markdown",
      "source": [
        "untouchable number"
      ],
      "metadata": {
        "id": "4mlves7YEIS7"
      }
    },
    {
      "cell_type": "code",
      "source": [
        "n=int(input())\n",
        "s=0\n",
        "for i in range(1,n):\n",
        "  if n%i==0:\n",
        "    s+=i\n",
        "if s==n:\n",
        "  print(\"untouchable number\")\n",
        "else:\n",
        "  print(\"not untouchable number\")"
      ],
      "metadata": {
        "colab": {
          "base_uri": "https://localhost:8080/"
        },
        "id": "Kk0t4AWSDh03",
        "outputId": "1d5e464d-cb2c-4cbd-ed42-a360613157f7"
      },
      "execution_count": null,
      "outputs": [
        {
          "output_type": "stream",
          "name": "stdout",
          "text": [
            "2\n",
            "not untouchable number\n"
          ]
        }
      ]
    },
    {
      "cell_type": "markdown",
      "source": [
        "ramanujan number"
      ],
      "metadata": {
        "id": "kujeu2zLPdYq"
      }
    },
    {
      "cell_type": "code",
      "source": [
        "n=1729\n",
        "a=12\n",
        "b=1\n",
        "c=a**3\n",
        "d=b**3\n",
        "e=c+d\n",
        "if n==e:\n",
        "  print(\"ramanujan number\")\n",
        "else:\n",
        "  print(\"not ramanujan number\")"
      ],
      "metadata": {
        "id": "CRW5wqiHET8p",
        "colab": {
          "base_uri": "https://localhost:8080/"
        },
        "outputId": "26227476-a96c-4584-e530-dd3b0d381e45"
      },
      "execution_count": null,
      "outputs": [
        {
          "output_type": "stream",
          "name": "stdout",
          "text": [
            "ramanujan number\n"
          ]
        }
      ]
    },
    {
      "cell_type": "markdown",
      "source": [
        "neon number"
      ],
      "metadata": {
        "id": "UJELwE-7XcXf"
      }
    },
    {
      "cell_type": "code",
      "source": [
        "n=int(input())\n",
        "s=n*n\n",
        "sum=0\n",
        "for i in range(1,n):\n",
        "  r=s%10\n",
        "  sum=sum+r\n",
        "  s=s//10\n",
        "if sum==n:\n",
        "  print(\"neon number\")\n",
        "else:\n",
        "  print(\"not neon number\")\n"
      ],
      "metadata": {
        "colab": {
          "base_uri": "https://localhost:8080/"
        },
        "id": "vkd_VRbhP4RF",
        "outputId": "a8735a2b-184e-42e0-e167-5e2a1c6bf30e"
      },
      "execution_count": null,
      "outputs": [
        {
          "output_type": "stream",
          "name": "stdout",
          "text": [
            "9\n",
            "neon number\n"
          ]
        }
      ]
    },
    {
      "cell_type": "markdown",
      "source": [
        "co prime number"
      ],
      "metadata": {
        "id": "h46xV2fQavo4"
      }
    },
    {
      "cell_type": "code",
      "source": [
        "n1=int(input())\n",
        "n2=int(input())\n",
        "hcf=1\n",
        "for i in range(1,n1):\n",
        "  if n1%i==0:\n",
        "    hcf=i\n",
        "for i in range(1,n2):\n",
        "  if n2%i==0:\n",
        "    hcf=i\n",
        "if hcf==1:\n",
        "  print(\"co primes\")\n",
        "else:\n",
        "  print(\"not co primes\")\n"
      ],
      "metadata": {
        "colab": {
          "base_uri": "https://localhost:8080/"
        },
        "id": "HzKzXhmjZORK",
        "outputId": "0d6dc294-d916-4469-f51e-871af4e39e2d"
      },
      "execution_count": null,
      "outputs": [
        {
          "output_type": "stream",
          "name": "stdout",
          "text": [
            "7\n",
            "11\n",
            "co primes\n"
          ]
        }
      ]
    },
    {
      "cell_type": "markdown",
      "source": [
        "array in a list"
      ],
      "metadata": {
        "id": "Q4_RO0XVO7ik"
      }
    },
    {
      "cell_type": "code",
      "source": [
        "n=[6,9,3,12,15,18]\n",
        "s1=min(n)\n",
        "l=[]\n",
        "for i in n:\n",
        "  if i%s1==0:\n",
        "    l.append(i)\n",
        "if n==l:\n",
        "  print(\"True\")\n",
        "else:\n",
        "  print(\"False\")"
      ],
      "metadata": {
        "id": "gmEeVGoa56dY",
        "colab": {
          "base_uri": "https://localhost:8080/"
        },
        "outputId": "5fe4d419-26b6-4982-a962-4da0eff3c5e0"
      },
      "execution_count": null,
      "outputs": [
        {
          "output_type": "stream",
          "name": "stdout",
          "text": [
            "True\n"
          ]
        }
      ]
    },
    {
      "cell_type": "markdown",
      "source": [
        "ascii values in a string"
      ],
      "metadata": {
        "id": "lXHH0WqDRBrj"
      }
    },
    {
      "cell_type": "code",
      "source": [
        "s=\"dog\"\n",
        "s1=s.upper()\n",
        "n1=[]\n",
        "for i in s1:\n",
        "  k=ord(i)-64\n",
        "  n1.append(k)\n",
        "print(n1)\n"
      ],
      "metadata": {
        "colab": {
          "base_uri": "https://localhost:8080/"
        },
        "id": "tOP0x1kENz4j",
        "outputId": "cb06d1ad-5914-4ba5-b022-47f0bf611db9"
      },
      "execution_count": null,
      "outputs": [
        {
          "output_type": "stream",
          "name": "stdout",
          "text": [
            "[4, 15, 7]\n"
          ]
        }
      ]
    },
    {
      "cell_type": "markdown",
      "source": [
        "binary search algorithm"
      ],
      "metadata": {
        "id": "651ByMKaPKlR"
      }
    },
    {
      "cell_type": "code",
      "source": [
        "def binary(a,data):\n",
        "  l=0\n",
        "  r=len(a)-1\n",
        "  mid=0\n",
        "  while l<=r:\n",
        "    mid=(l+r)//2\n",
        "    if data==a[mid]:\n",
        "      return mid\n",
        "    elif data<a[mid]:\n",
        "        r=mid-1\n",
        "    else:\n",
        "        l=mid+1\n",
        "  return -1\n",
        "a=[2,4,5,6,7,8]\n",
        "data=8\n",
        "res=binary(a,data)\n",
        "if res!=1:\n",
        "  print(res)\n",
        "else:\n",
        "  print(\"element not found\")"
      ],
      "metadata": {
        "id": "VeuoQOZNRBGt",
        "colab": {
          "base_uri": "https://localhost:8080/"
        },
        "outputId": "ff1a6a48-c0d3-4f7e-f002-4e4d4af88085"
      },
      "execution_count": null,
      "outputs": [
        {
          "output_type": "stream",
          "name": "stdout",
          "text": [
            "5\n"
          ]
        }
      ]
    },
    {
      "cell_type": "markdown",
      "source": [
        "To create a class in object"
      ],
      "metadata": {
        "id": "T3Q5wrOLRAbN"
      }
    },
    {
      "cell_type": "code",
      "source": [
        "class Name:\n",
        "  def display(self):\n",
        "    print(\"megha\")\n",
        "    print(\"\\n\")\n",
        "c=Name()\n",
        "c.display()"
      ],
      "metadata": {
        "colab": {
          "base_uri": "https://localhost:8080/"
        },
        "id": "ieY1MGa8Poie",
        "outputId": "e0cd1644-9aac-4812-80dd-aa4c740c9744"
      },
      "execution_count": null,
      "outputs": [
        {
          "output_type": "stream",
          "name": "stdout",
          "text": [
            "megha\n",
            "\n",
            "\n"
          ]
        }
      ]
    },
    {
      "cell_type": "markdown",
      "source": [
        "removing numbers and special character in a string"
      ],
      "metadata": {
        "id": "enk6QpsPFZxc"
      }
    },
    {
      "cell_type": "code",
      "source": [
        "n=\"megha123@\"\n",
        "k=\"\"\n",
        "k1=\"\"\n",
        "for i in n:\n",
        "    if i.isalnum():\n",
        "        k+=i\n",
        "    if i.isalpha():\n",
        "        k1+=i\n",
        "print(k)\n",
        "print(k1)"
      ],
      "metadata": {
        "colab": {
          "base_uri": "https://localhost:8080/"
        },
        "id": "P39tsgLrFVaV",
        "outputId": "ad00f7c5-b8b8-47d1-d4de-505d3e03813a"
      },
      "execution_count": null,
      "outputs": [
        {
          "output_type": "stream",
          "name": "stdout",
          "text": [
            "megha123\n",
            "megha\n"
          ]
        }
      ]
    },
    {
      "cell_type": "markdown",
      "source": [
        "To print special character in a string"
      ],
      "metadata": {
        "id": "e66F5SQPG2ac"
      }
    },
    {
      "cell_type": "code",
      "source": [
        "n=\"@%^&megha123@\"\n",
        "k1=\"\"\n",
        "for i in n:\n",
        "    if i.isalnum():\n",
        "        continue\n",
        "    else:\n",
        "        k1+=i\n",
        "print(k1)"
      ],
      "metadata": {
        "id": "2nBC2Jx9G0UX"
      },
      "execution_count": null,
      "outputs": []
    },
    {
      "cell_type": "markdown",
      "source": [
        "count of characters"
      ],
      "metadata": {
        "id": "7g_VHWsVZhZC"
      }
    },
    {
      "cell_type": "code",
      "source": [
        "s=\"Pop up\".lower()\n",
        "k=[]\n",
        "for i in s:\n",
        "    if i.isalnum():\n",
        "        k.append(i)\n",
        "for i in set(k):\n",
        "    print(i,\":\",s.count(i))"
      ],
      "metadata": {
        "colab": {
          "base_uri": "https://localhost:8080/"
        },
        "id": "8H4Q0-xDZW4H",
        "outputId": "bec03251-a953-4a44-eb5f-448393c21dbe"
      },
      "execution_count": null,
      "outputs": [
        {
          "output_type": "stream",
          "name": "stdout",
          "text": [
            "p : 3\n",
            "u : 1\n",
            "o : 1\n"
          ]
        }
      ]
    }
  ]
}